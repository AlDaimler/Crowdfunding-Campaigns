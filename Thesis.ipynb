{
 "cells": [
  {
   "cell_type": "code",
   "execution_count": null,
   "metadata": {},
   "outputs": [],
   "source": [
    "import pandas as pd\n",
    "import numpy as np\n",
    "import seaborn as sns\n",
    "import matplotlib.pyplot as plt\n",
    "import ast\n",
    "import shap\n",
    "import ipywidgets\n",
    "import torch\n",
    "import time\n",
    "from sklearn.feature_extraction.text import TfidfVectorizer\n",
    "from tqdm.auto import tqdm\n",
    "from pathlib import Path\n",
    "from sklearn.decomposition import PCA\n",
    "from catboost import CatBoostClassifier, Pool\n",
    "from transformers import DistilBertTokenizer, DistilBertModel\n",
    "from torch.utils.data import Dataset, DataLoader\n",
    "from sklearn.model_selection import train_test_split\n",
    "from sklearn.metrics import (accuracy_score, precision_score, recall_score,\n",
    "                            f1_score, roc_auc_score,confusion_matrix, \n",
    "                            classification_report)"
   ]
  },
  {
   "cell_type": "code",
   "execution_count": null,
   "metadata": {},
   "outputs": [],
   "source": [
    "#Конкатенация собранных .csv файлов в один\n",
    "data_direction = Path(\"/Users/sasha/Documents/Kickstarter2024/\")\n",
    "df = pd.concat([pd.read_csv(f) for f in data_direction.glob(\"*.csv\")], ignore_index=True)\n",
    "df.to_csv(\"/Users/Sasha/Documents/dataframe.csv\", index=False)"
   ]
  },
  {
   "cell_type": "code",
   "execution_count": null,
   "metadata": {},
   "outputs": [],
   "source": [
    "#Чтение файла\n",
    "path = '/Users/sasha/Documents/dataframe.csv'\n",
    "data = pd.read_csv(path)\n",
    "data.info()\n",
    "data.columns.tolist()"
   ]
  },
  {
   "cell_type": "code",
   "execution_count": null,
   "metadata": {},
   "outputs": [],
   "source": [
    "df_clear = data.drop(['backers_count', 'converted_pledged_amount', 'country_displayable_name',\n",
    "                      'creator', 'currency', 'currency_symbol', 'currency_trailing_code',\n",
    "                      'current_currency', 'disable_communication', 'fx_rate',\n",
    "                      'id', 'is_disliked', 'is_liked', 'is_launched',\n",
    "                      'is_in_post_campaign_pledging_phase', 'is_starrable', 'name',\n",
    "                      'percent_funded', 'photo', 'pledged', 'profile', 'spotlight', \n",
    "                      'slug', 'source_url', 'state_changed_at', 'static_usd_rate', 'urls',\n",
    "                       'usd_exchange_rate', 'usd_pledged', 'usd_type'], axis=1)\n",
    "df_clear.columns.tolist()\n"
   ]
  },
  {
   "cell_type": "code",
   "execution_count": null,
   "metadata": {},
   "outputs": [],
   "source": [
    "df_clear.at[20,'location']\n",
    "df_clear = df_clear.rename(columns={'blurb': 'Текст', 'category': 'Категория',\n",
    "                                    'country': 'Страна', 'goal': 'Цель',\n",
    "                                    'location': 'Город', 'prelaunch_activated': 'РаннийЗапуск',\n",
    "                                    'staff_pick': 'ВыборПлощадки', 'state': 'Результат',\n",
    "                                    'video': 'Видео'})\n"
   ]
  },
  {
   "cell_type": "code",
   "execution_count": null,
   "metadata": {},
   "outputs": [],
   "source": [
    "#процентное соотношение пропущенных значений\n",
    "df_nans = (df_clear.isnull().sum() / len(df_clear)) * 100\n",
    "\n",
    "#удаление столбцов без пропущенных значений, сортировка\n",
    "df_nans = df_nans.drop(df_nans[df_nans == 0].index).sort_values(ascending=False)\n",
    "\n",
    "f, ax = plt.subplots(figsize=(12, 8))\n",
    "plt.xticks(rotation=90)\n",
    "sns.barplot(x=df_nans.index, y=df_nans)\n",
    "ax.set(title='Процент пропущенных данных на признак', ylabel='Процент пропущенных данных')\n",
    "plt.show()"
   ]
  },
  {
   "cell_type": "code",
   "execution_count": 141,
   "metadata": {},
   "outputs": [],
   "source": [
    "df_clear['Видео'] = df_clear['Видео'].fillna(0)\n",
    "df_clear = df_clear.dropna()"
   ]
  },
  {
   "cell_type": "code",
   "execution_count": null,
   "metadata": {},
   "outputs": [],
   "source": [
    "def extract_parent_name(cell):\n",
    "    try:\n",
    "        data1 = ast.literal_eval(cell) if isinstance(cell, str) else cell\n",
    "        return data1.get('parent_name')\n",
    "    except (ValueError, SyntaxError, AttributeError):\n",
    "        import re\n",
    "        match = re.search(r\"'parent_name'\\s*:\\s*'([^']+)'\", str(cell))\n",
    "        if not match:\n",
    "            match = re.search(r'\"parent_name\"\\s*:\\s*\"([^\"]+)\"', str(cell))\n",
    "        return match.group(1) if match else None\n",
    "\n",
    "df_clear['Категория'] = df_clear['Категория'].apply(extract_parent_name)\n",
    "df_clear = df_clear.dropna()"
   ]
  },
  {
   "cell_type": "code",
   "execution_count": null,
   "metadata": {},
   "outputs": [],
   "source": [
    "def extract_location_name(cell):\n",
    "    try:\n",
    "        data2 = ast.literal_eval(cell) if isinstance(cell, str) else cell\n",
    "        return data2.get('name')\n",
    "    except (ValueError, SyntaxError, AttributeError):\n",
    "        import re\n",
    "        match = re.search(r\"'name'\\s*:\\s*'([^']+)'\", str(cell)) or \\\n",
    "               re.search(r'\"name\"\\s*:\\s*\"([^\"]+)\"', str(cell))\n",
    "        return match.group(1) if match else None\n",
    "\n",
    "df_clear['Город'] = df_clear['Город'].apply(extract_location_name)\n",
    "df_clear['Видео'] = np.where(df_clear['Видео'] == 0, 0, 1)"
   ]
  },
  {
   "cell_type": "code",
   "execution_count": null,
   "metadata": {},
   "outputs": [],
   "source": [
    "display(df_clear.iloc[[183540]].T)\n",
    "df_clear['Длительность'] = (df_clear['deadline'] - df_clear['launched_at']) // 86400\n",
    "df_clear['ДлительностьПодготовки'] = (df_clear['launched_at'] - df_clear['created_at']) // 86400\n",
    "df_clear = df_clear.drop(['launched_at', 'created_at', 'deadline'], axis=1)\n"
   ]
  },
  {
   "cell_type": "code",
   "execution_count": 147,
   "metadata": {},
   "outputs": [],
   "source": [
    "df_clear[['РаннийЗапуск', 'ВыборПлощадки']] = df_clear[['РаннийЗапуск', 'ВыборПлощадки']].astype(int)"
   ]
  },
  {
   "cell_type": "code",
   "execution_count": null,
   "metadata": {},
   "outputs": [],
   "source": [
    "df_clear['Результат'] = df_clear['Результат'].replace({\n",
    "    'successful': 1,\n",
    "    'failed': 0,\n",
    "    'canceled': 0,\n",
    "    'submitted': 2,\n",
    "    'live': 2,\n",
    "    'started': 2,\n",
    "    'suspended': 2\n",
    "    })\n",
    "df_clear.info()"
   ]
  },
  {
   "cell_type": "code",
   "execution_count": null,
   "metadata": {},
   "outputs": [],
   "source": [
    "state_counts = df_clear['Результат'].value_counts()\n",
    "state_percentage = df_clear['Результат'].value_counts(normalize=True) * 100\n",
    "\n",
    "state_stats = pd.DataFrame({\n",
    "    'Count': state_counts,\n",
    "    'Percentage': state_percentage\n",
    "})\n",
    "\n",
    "print(state_stats)"
   ]
  },
  {
   "cell_type": "code",
   "execution_count": 150,
   "metadata": {},
   "outputs": [],
   "source": [
    "df_clear = df_clear[df_clear['Результат'] != 2]"
   ]
  },
  {
   "cell_type": "code",
   "execution_count": null,
   "metadata": {},
   "outputs": [],
   "source": [
    "plt.figure(figsize=(10, 6))\n",
    "sns.histplot(np.log1p(df_clear['Цель']), kde=False, bins=30)\n",
    "plt.title('Распределение логарифма целевой суммы сбора')\n",
    "plt.xlabel('Целевая сумма сбора')\n",
    "plt.ylabel('Частота')\n",
    "plt.show()"
   ]
  },
  {
   "cell_type": "code",
   "execution_count": null,
   "metadata": {},
   "outputs": [],
   "source": [
    "numeric_features = ['Цель', 'Длительность', 'ДлительностьПодготовки']\n",
    "success_stats = df_clear.groupby('Результат')[numeric_features].agg(['mean', 'median'])\n",
    "print(\"\\nСравнение средних и медиан:\")\n",
    "print(success_stats)"
   ]
  },
  {
   "cell_type": "code",
   "execution_count": null,
   "metadata": {},
   "outputs": [],
   "source": [
    "fig, axes = plt.subplots(1, 3, figsize=(18, 5))\n",
    "\n",
    "#ящик с усами для каждого признака\n",
    "for i, feature in enumerate(numeric_features):\n",
    "    sns.boxplot(x='Результат', y=feature, data=df_clear, ax=axes[i], showfliers=False)\n",
    "    axes[i].set_title(f'Распределение признака {feature}')\n",
    "    axes[i].set_xlabel('Успех кампании')\n",
    "    axes[i].set_ylabel(feature)\n",
    "    \n",
    "    #Аннотации со средними и медианами\n",
    "    for status in [0, 1]:\n",
    "        median = df_clear[df_clear['Результат'] == status][feature].median()\n",
    "        mean = df_clear[df_clear['Результат'] == status][feature].mean()\n",
    "        axes[i].text(status, median*1.05, f'Мед: {median:.1f}\\nСр: {mean:.1f}', \n",
    "                    ha='center', va='bottom', fontsize=10)\n",
    "\n",
    "plt.tight_layout()\n",
    "plt.show()"
   ]
  },
  {
   "cell_type": "code",
   "execution_count": null,
   "metadata": {},
   "outputs": [],
   "source": [
    "plt.figure(figsize=(10, 6))\n",
    "sns.histplot(data=df_clear, x='Длительность', hue='Результат', bins=30, kde=False, element='step')\n",
    "plt.title('Распределение длительности кампании')\n",
    "plt.xlabel('Длительность (дни)')\n",
    "plt.ylabel('Частота')\n",
    "plt.show()"
   ]
  },
  {
   "cell_type": "code",
   "execution_count": null,
   "metadata": {},
   "outputs": [],
   "source": [
    "category_success = df_clear.groupby(['Категория', 'Результат']).size().unstack().fillna(0)\n",
    "category_success['success_rate'] = category_success[1] / (category_success[0] + category_success[1])\n",
    "category_success = category_success.sort_values('success_rate', ascending=False)\n",
    "\n",
    "plt.figure(figsize=(12, 6))\n",
    "sns.barplot(x=category_success.index, y='success_rate', data=category_success, palette='viridis')\n",
    "plt.title('Успешность по категориям проектов')\n",
    "plt.xlabel('Категория')\n",
    "plt.ylabel('Доля успешных кампаний')\n",
    "plt.xticks(rotation=45)\n",
    "plt.show()"
   ]
  },
  {
   "cell_type": "code",
   "execution_count": null,
   "metadata": {},
   "outputs": [],
   "source": [
    "country_success = df_clear.groupby('Страна')['Результат'].agg(['mean', 'count'])\n",
    "country_success = country_success[country_success['count'] > 100]\n",
    "country_success = country_success.sort_values('mean', ascending=False).head(30)\n",
    "\n",
    "plt.figure(figsize=(12, 6))\n",
    "sns.barplot(x=country_success.index, y='mean', data=country_success, palette='coolwarm')\n",
    "plt.title('Распределение успеха кампаний по странам')\n",
    "plt.xlabel('Страна')\n",
    "plt.ylabel('Доля успешных кампаний')\n",
    "plt.xticks(rotation=45)\n",
    "plt.show()"
   ]
  },
  {
   "cell_type": "code",
   "execution_count": null,
   "metadata": {},
   "outputs": [],
   "source": [
    "binary_features = ['Видео', 'ВыборПлощадки']\n",
    "\n",
    "plt.figure(figsize=(15, 5))\n",
    "for i, feature in enumerate(binary_features, 1):\n",
    "    plt.subplot(1, 3, i)\n",
    "    sns.barplot(x=feature, y='Результат', data=df_clear, errorbar=None)\n",
    "    plt.title(f'Успешность кампаний по фактору {feature}')\n",
    "    plt.ylim(0, 1)\n",
    "plt.tight_layout()\n",
    "plt.show()"
   ]
  },
  {
   "cell_type": "code",
   "execution_count": null,
   "metadata": {},
   "outputs": [],
   "source": [
    "numerical_df = df_clear[['Результат', 'Цель', 'Длительность', 'ДлительностьПодготовки', ] + binary_features]\n",
    "plt.figure(figsize=(10, 8))\n",
    "sns.heatmap(numerical_df.corr(), annot=True, cmap='coolwarm', vmin=-1, vmax=1)\n",
    "plt.title('Матрица корреляций')\n",
    "plt.show()"
   ]
  },
  {
   "cell_type": "code",
   "execution_count": null,
   "metadata": {},
   "outputs": [],
   "source": [
    "df_clear['Текст'] = df_clear['Текст'].fillna('')\n",
    "\n",
    "tfidf = TfidfVectorizer(\n",
    "    max_features=1000,  # Ограничим количество слов для интерпретируемости\n",
    "    min_df=5,          # Слово должно встречаться минимум в 5 кампаниях\n",
    "    max_df=0.8,        # Исключаем слова, встречающиеся в >80% кампаний\n",
    "    stop_words='english',  # Удаляем стоп-слова\n",
    "    ngram_range=(1, 2)    # Учитываем отдельные слова и биграммы\n",
    ")\n",
    "\n",
    "# Применяем TF-IDF к тексту\n",
    "tfidf_features = tfidf.fit_transform(df_clear['Текст'].fillna('').astype(str))\n",
    "\n",
    "# Преобразуем в DataFrame\n",
    "tfidf_df = pd.DataFrame(\n",
    "    tfidf_features.toarray(),\n",
    "    columns=tfidf.get_feature_names_out())\n",
    "\n",
    "# 2. Объединяем с исходными данными\n",
    "# Удаляем исходный текстовый признак\n",
    "df_without_text = df_clear.drop('Текст', axis=1)\n",
    "\n",
    "# Объединяем с TF-IDF фичами\n",
    "df_clear = pd.concat([df_without_text, tfidf_df], axis=1)\n",
    "df_clear = df_clear.dropna()\n"
   ]
  },
  {
   "cell_type": "code",
   "execution_count": 161,
   "metadata": {},
   "outputs": [],
   "source": [
    "#Предобработка данных\n",
    "X = df_clear.drop('Результат', axis=1)\n",
    "y = df_clear['Результат']\n",
    "\n",
    "X_train, X_test, y_train, y_test = train_test_split(\n",
    "    X, y, test_size=0.2, random_state=42, stratify=y)\n"
   ]
  },
  {
   "cell_type": "code",
   "execution_count": 162,
   "metadata": {},
   "outputs": [],
   "source": [
    "#Распределение признаков по типам\n",
    "\n",
    "cat_features = ['Категория', 'Страна', 'Город']\n",
    "\n",
    "train_pool = Pool(\n",
    "    data=X_train,\n",
    "    label=y_train,\n",
    "    cat_features=cat_features,\n",
    "    feature_names=list(X_train.columns))\n",
    "\n",
    "test_pool = Pool(\n",
    "    data=X_test,\n",
    "    label=y_test,\n",
    "    cat_features=cat_features,\n",
    "    feature_names=list(X_test.columns))\n"
   ]
  },
  {
   "cell_type": "code",
   "execution_count": 163,
   "metadata": {},
   "outputs": [],
   "source": [
    "#Инициализация\n",
    "model = CatBoostClassifier(\n",
    "    auto_class_weights='Balanced',\n",
    "    iterations=1000,\n",
    "    learning_rate=0.05,\n",
    "    depth=6,\n",
    "    loss_function='Logloss',\n",
    "    eval_metric='AUC',\n",
    "    random_seed=42,\n",
    "    verbose=100)"
   ]
  },
  {
   "cell_type": "code",
   "execution_count": null,
   "metadata": {},
   "outputs": [],
   "source": [
    "#Обучение модели\n",
    "model.fit(\n",
    "    train_pool,\n",
    "    eval_set=test_pool,\n",
    "    plot=True)"
   ]
  },
  {
   "cell_type": "code",
   "execution_count": null,
   "metadata": {},
   "outputs": [],
   "source": [
    "#Оценка качества\n",
    "y_pred = model.predict(test_pool)\n",
    "y_pred_proba = model.predict_proba(test_pool)[:, 1]\n",
    "\n",
    "print(\"\\nClassification Report:\")\n",
    "print(classification_report(y_test, y_pred))\n",
    "\n",
    "print(\"\\nMetrics:\")\n",
    "print(f\"Accuracy: {accuracy_score(y_test, y_pred):.4f}\")\n",
    "print(f\"Precision: {precision_score(y_test, y_pred):.4f}\")\n",
    "print(f\"Recall: {recall_score(y_test, y_pred):.4f}\")\n",
    "print(f\"F1-score: {f1_score(y_test, y_pred):.4f}\")\n",
    "print(f\"ROC-AUC: {roc_auc_score(y_test, y_pred_proba):.4f}\")\n",
    "\n",
    "#Матрица ошибок\n",
    "cm = confusion_matrix(y_test, y_pred)\n",
    "plt.figure(figsize=(6, 6))\n",
    "sns.heatmap(cm, annot=True, fmt='d', cmap='Blues', \n",
    "            xticklabels=['Провал (0)', 'Успех (1)'], \n",
    "            yticklabels=['Провал (0)', 'Успех (1)'])\n",
    "plt.title('Матрица ошибок')\n",
    "plt.ylabel('В действительности')\n",
    "plt.xlabel('Предсказано')\n",
    "plt.show()"
   ]
  },
  {
   "cell_type": "code",
   "execution_count": null,
   "metadata": {},
   "outputs": [],
   "source": [
    "feature_importance = model.get_feature_importance()\n",
    "\n",
    "word_importance = pd.DataFrame({\n",
    "    'word': X_train.columns[len(df_without_text.columns)-1:],  # Только словарные фичи\n",
    "    'importance': feature_importance[len(df_without_text.columns)-1:]\n",
    "})\n",
    "\n",
    "top_words = word_importance.sort_values('importance', ascending=False).head(30)\n",
    "\n",
    "plt.figure(figsize=(12, 8))\n",
    "sns.barplot(x='importance', y='word', data=top_words, palette='viridis')\n",
    "plt.title('Топ-40 слов, наиболее влияющих на успех кампаний')\n",
    "plt.xlabel('Важность признака')\n",
    "plt.ylabel('Слово')\n",
    "plt.show()"
   ]
  },
  {
   "cell_type": "code",
   "execution_count": null,
   "metadata": {},
   "outputs": [],
   "source": [
    "device = torch.device('cuda' if torch.cuda.is_available() else 'cpu')\n",
    "print(f\"Using device: {device}\")\n",
    "tokenizer = DistilBertTokenizer.from_pretrained('distilbert-base-uncased')\n",
    "model = DistilBertModel.from_pretrained('distilbert-base-uncased').to(device)\n",
    "model.eval()"
   ]
  },
  {
   "cell_type": "code",
   "execution_count": null,
   "metadata": {},
   "outputs": [],
   "source": [
    "def get_embeddings(texts, batch_size=64, show_progress=True):\n",
    "\n",
    "    embeddings = []\n",
    "    \n",
    "    \n",
    "    iter_range = range(0, len(texts), batch_size)\n",
    "    if show_progress:\n",
    "        iter_range = tqdm(iter_range, desc=\"Processing batches\")\n",
    "    \n",
    "    for i in iter_range:\n",
    "        batch = texts[i:i + batch_size]\n",
    "        \n",
    "        encoded = tokenizer(\n",
    "            batch,\n",
    "            padding=True,\n",
    "            truncation=True,\n",
    "            max_length=128,\n",
    "            return_tensors='pt'\n",
    "        ).to(device)\n",
    "        \n",
    "        with torch.no_grad():\n",
    "            outputs = model(**encoded)\n",
    "        \n",
    "        # Извлечение последнего скрытого слоя и усреднение по токенам (mean pooling)\n",
    "        last_hidden_state = outputs.last_hidden_state\n",
    "        attention_mask = encoded['attention_mask']\n",
    "        input_mask_expanded = attention_mask.unsqueeze(-1).expand(last_hidden_state.size()).float()\n",
    "        sum_embeddings = torch.sum(last_hidden_state * input_mask_expanded, 1)\n",
    "        sum_mask = input_mask_expanded.sum(1)\n",
    "        sum_mask = torch.clamp(sum_mask, min=1e-9)\n",
    "        batch_embeddings = sum_embeddings / sum_mask\n",
    "        \n",
    "        embeddings.append(batch_embeddings.cpu().numpy())\n",
    "    \n",
    "    return np.concatenate(embeddings, axis=0)\n"
   ]
  },
  {
   "cell_type": "code",
   "execution_count": null,
   "metadata": {},
   "outputs": [],
   "source": [
    "texts = df_clear['Текст'].astype(str).tolist()\n",
    "embeddings = get_embeddings(texts)"
   ]
  },
  {
   "cell_type": "code",
   "execution_count": 95,
   "metadata": {},
   "outputs": [],
   "source": [
    "np.save('text_embeddings.npy', embeddings)"
   ]
  },
  {
   "cell_type": "code",
   "execution_count": 96,
   "metadata": {},
   "outputs": [],
   "source": [
    "bert_columns = [f'bert_{i}' for i in range(embeddings.shape[1])]\n",
    "bert_df = pd.DataFrame(embeddings, columns=bert_columns)"
   ]
  },
  {
   "cell_type": "code",
   "execution_count": null,
   "metadata": {},
   "outputs": [],
   "source": [
    "df_without_text = df_clear.drop('Текст', axis=1)\n",
    "final_df = pd.concat([df_without_text, bert_df], axis=1)\n",
    "final_df = final_df.dropna()"
   ]
  },
  {
   "cell_type": "code",
   "execution_count": null,
   "metadata": {},
   "outputs": [],
   "source": [
    "#Предобработка данных\n",
    "X = final_df.drop('Результат', axis=1)\n",
    "y = final_df['Результат']\n",
    "\n",
    "X_train, X_test, y_train, y_test = train_test_split(\n",
    "    X, y, test_size=0.2, random_state=42, stratify=y)"
   ]
  },
  {
   "cell_type": "code",
   "execution_count": null,
   "metadata": {},
   "outputs": [],
   "source": [
    "cat_features = ['Категория', 'Страна', 'Город']\n",
    "\n",
    "train_pool = Pool(\n",
    "    data=X_train,\n",
    "    label=y_train,\n",
    "    cat_features=cat_features,\n",
    "    feature_names=list(X_train.columns))\n",
    "\n",
    "test_pool = Pool(\n",
    "    data=X_test,\n",
    "    label=y_test,\n",
    "    cat_features=cat_features,\n",
    "    feature_names=list(X_test.columns))\n"
   ]
  },
  {
   "cell_type": "code",
   "execution_count": null,
   "metadata": {},
   "outputs": [],
   "source": [
    "#обучение с эмбеддингами\n",
    "\n",
    "model = CatBoostClassifier(\n",
    "    auto_class_weights='Balanced',\n",
    "    iterations=1000,\n",
    "    learning_rate=0.05,\n",
    "    depth=6,\n",
    "    loss_function='Logloss',\n",
    "    eval_metric='AUC',\n",
    "    random_seed=42,\n",
    "    verbose=100\n",
    ")\n",
    "\n",
    "model.fit(\n",
    "    train_pool,\n",
    "    eval_set=test_pool,\n",
    "    plot=True)"
   ]
  },
  {
   "cell_type": "code",
   "execution_count": null,
   "metadata": {},
   "outputs": [],
   "source": [
    "#оценка модели\n",
    "y_pred = model.predict(test_pool)\n",
    "y_pred_proba = model.predict_proba(test_pool)[:, 1]\n",
    "print(\"\\nClassification Report:\")\n",
    "print(classification_report(y_test, y_pred))\n",
    "\n",
    "print(\"\\nMetrics:\")\n",
    "print(f\"Accuracy: {accuracy_score(y_test, y_pred):.4f}\")\n",
    "print(f\"Precision: {precision_score(y_test, y_pred):.4f}\")\n",
    "print(f\"Recall: {recall_score(y_test, y_pred):.4f}\")\n",
    "print(f\"F1-score: {f1_score(y_test, y_pred):.4f}\")\n",
    "print(f\"ROC-AUC: {roc_auc_score(y_test, y_pred_proba):.4f}\")\n",
    "\n",
    "#Матрица ошибок\n",
    "cm = confusion_matrix(y_test, y_pred)\n",
    "plt.figure(figsize=(6, 6))\n",
    "sns.heatmap(cm, annot=True, fmt='d', cmap='Blues', \n",
    "            xticklabels=['Провал (0)', 'Успех (1)'], \n",
    "            yticklabels=['Провал (0)', 'Успех (1)'])\n",
    "plt.title('Матрица ошибок')\n",
    "plt.ylabel('В действительности')\n",
    "plt.xlabel('Предсказано')\n",
    "plt.show()"
   ]
  }
 ],
 "metadata": {
  "kernelspec": {
   "display_name": "Python 3",
   "language": "python",
   "name": "python3"
  },
  "language_info": {
   "codemirror_mode": {
    "name": "ipython",
    "version": 3
   },
   "file_extension": ".py",
   "mimetype": "text/x-python",
   "name": "python",
   "nbconvert_exporter": "python",
   "pygments_lexer": "ipython3",
   "version": "3.12.9"
  }
 },
 "nbformat": 4,
 "nbformat_minor": 2
}
